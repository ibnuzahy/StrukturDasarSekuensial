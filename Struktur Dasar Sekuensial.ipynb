{
 "cells": [
  {
   "cell_type": "markdown",
   "metadata": {},
   "source": [
    "# Python Struktur Dasar Sekuensial"
   ]
  },
  {
   "cell_type": "markdown",
   "metadata": {},
   "source": [
    "## Algoritma Menghitung Konversi Temperatur Fahrenheit ke Celcius"
   ]
  },
  {
   "cell_type": "code",
   "execution_count": 7,
   "metadata": {},
   "outputs": [
    {
     "name": "stdout",
     "output_type": "stream",
     "text": [
      "Masukkan nilai fahrenheit: 77\n"
     ]
    }
   ],
   "source": [
    "#proses input nilai fahrenheit yang akan dikonversi ke celcius\n",
    "input_fahrenheit = int(input(\"Masukkan nilai fahrenheit: \"))"
   ]
  },
  {
   "cell_type": "code",
   "execution_count": 9,
   "metadata": {},
   "outputs": [],
   "source": [
    "#proses perhitungan dari fahrenheit ke celcius\n",
    "rumus_celcius = 5/9*(input_fahrenheit-32)"
   ]
  },
  {
   "cell_type": "code",
   "execution_count": 11,
   "metadata": {},
   "outputs": [
    {
     "name": "stdout",
     "output_type": "stream",
     "text": [
      "Nilai celcius adalah: 25.0\n"
     ]
    }
   ],
   "source": [
    "#proses pencetakan nilai fahrenheit yang telah dikonversi ke celcius\n",
    "print(\"Nilai celcius adalah:\",rumus_celcius)"
   ]
  },
  {
   "cell_type": "markdown",
   "metadata": {},
   "source": [
    "## Algoritma Menghitung Luas Lingkaran"
   ]
  },
  {
   "cell_type": "code",
   "execution_count": 12,
   "metadata": {},
   "outputs": [],
   "source": [
    "#proses penyimpanan nilai pi secara default \n",
    "input_pi = 3.14"
   ]
  },
  {
   "cell_type": "code",
   "execution_count": 16,
   "metadata": {},
   "outputs": [
    {
     "name": "stdout",
     "output_type": "stream",
     "text": [
      "Masukkan nilai r: 10\n"
     ]
    }
   ],
   "source": [
    "#proses penginputan nilai jari-jari (r)\n",
    "input_r = float(input(\"Masukkan nilai r: \")) "
   ]
  },
  {
   "cell_type": "code",
   "execution_count": 17,
   "metadata": {},
   "outputs": [],
   "source": [
    "#proses penghitungan menggunakan rumus luas lingkaran\n",
    "luas = input_pi*input_r*input_r"
   ]
  },
  {
   "cell_type": "code",
   "execution_count": 18,
   "metadata": {},
   "outputs": [
    {
     "name": "stdout",
     "output_type": "stream",
     "text": [
      "luas lingkaran adalah: 314.0\n"
     ]
    }
   ],
   "source": [
    "#proses pencetakan nilai dari luas lingkaran\n",
    "print(\"luas lingkaran adalah:\",luas)"
   ]
  },
  {
   "cell_type": "markdown",
   "metadata": {},
   "source": [
    "##  Algoritma Menghitung Body Mass Index"
   ]
  },
  {
   "cell_type": "code",
   "execution_count": 23,
   "metadata": {},
   "outputs": [
    {
     "name": "stdout",
     "output_type": "stream",
     "text": [
      "Masukkan berat badan (kg): 59\n"
     ]
    }
   ],
   "source": [
    "#proses penginputan berat badan dalam kilogram \n",
    "input_berat = float(input(\"Masukkan berat badan (kg): \"))"
   ]
  },
  {
   "cell_type": "code",
   "execution_count": 24,
   "metadata": {},
   "outputs": [
    {
     "name": "stdout",
     "output_type": "stream",
     "text": [
      "masukkan tinggi badan (m): 1.73\n"
     ]
    }
   ],
   "source": [
    "#proses penginputan tinggi badan dalam meter \n",
    "input_tinggi = float(input(\"masukkan tinggi badan (m): \"))"
   ]
  },
  {
   "cell_type": "code",
   "execution_count": 26,
   "metadata": {},
   "outputs": [],
   "source": [
    "#proses penghitungan body mass index\n",
    "BMI = input_berat/(input_tinggi)**2"
   ]
  },
  {
   "cell_type": "code",
   "execution_count": 27,
   "metadata": {},
   "outputs": [
    {
     "name": "stdout",
     "output_type": "stream",
     "text": [
      "Body Mass Indek: 19.713321527615356\n"
     ]
    }
   ],
   "source": [
    "#proses pencetakan nilai body mass index\n",
    "print(\"Body Mass Indek:\",BMI)"
   ]
  },
  {
   "cell_type": "markdown",
   "metadata": {},
   "source": [
    "# -------------------------------------- IBNU ZAHY' ATHA ILLAH"
   ]
  }
 ],
 "metadata": {
  "kernelspec": {
   "display_name": "Python 3",
   "language": "python",
   "name": "python3"
  },
  "language_info": {
   "codemirror_mode": {
    "name": "ipython",
    "version": 3
   },
   "file_extension": ".py",
   "mimetype": "text/x-python",
   "name": "python",
   "nbconvert_exporter": "python",
   "pygments_lexer": "ipython3",
   "version": "3.8.3"
  }
 },
 "nbformat": 4,
 "nbformat_minor": 4
}
